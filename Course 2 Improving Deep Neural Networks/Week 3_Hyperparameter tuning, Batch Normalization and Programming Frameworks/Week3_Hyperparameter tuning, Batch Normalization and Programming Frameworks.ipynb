{
 "cells": [
  {
   "cell_type": "markdown",
   "metadata": {},
   "source": [
    "### 3.1.1 Tuning process\n",
    "\n",
    "<img src=\"images/3.1.1 Tuning process1.png\">\n",
    "\n",
    "**Tuning sequence**: Red -> Yellow -> Purple\n",
    "\n",
    "<img src=\"images/3.1.1 Tuning process2.png\">\n",
    "<img src=\"images/3.1.1 Tuning process3.png\">\n",
    "\n",
    "**Two key takeways:**\n",
    "\n",
    "- Use random sampling and adquate search\n",
    "- Optionally consider "
   ]
  },
  {
   "cell_type": "markdown",
   "metadata": {},
   "source": [
    "### 3.1.2 Using a propriate scale to pick hyperparameters"
   ]
  },
  {
   "cell_type": "code",
   "execution_count": null,
   "metadata": {},
   "outputs": [],
   "source": []
  }
 ],
 "metadata": {
  "kernelspec": {
   "display_name": "Python 3",
   "language": "python",
   "name": "python3"
  },
  "language_info": {
   "codemirror_mode": {
    "name": "ipython",
    "version": 3
   },
   "file_extension": ".py",
   "mimetype": "text/x-python",
   "name": "python",
   "nbconvert_exporter": "python",
   "pygments_lexer": "ipython3",
   "version": "3.7.3"
  }
 },
 "nbformat": 4,
 "nbformat_minor": 2
}
